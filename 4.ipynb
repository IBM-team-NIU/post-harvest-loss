{
 "cells": [
  {
   "cell_type": "code",
   "execution_count": null,
   "id": "cf80a210-3ba5-45e3-ad98-c1d41e60aacb",
   "metadata": {},
   "outputs": [],
   "source": [
    "# This is a simple Python program\r\n",
    "\r\n",
    "# Print a greeting message\r\n",
    "print(\"Hello, World!\")\r\n"
   ]
  },
  {
   "cell_type": "code",
   "execution_count": null,
   "id": "8d9c46de-6de1-4d22-86b2-15d277cdf6d3",
   "metadata": {},
   "outputs": [],
   "source": []
  }
 ],
 "metadata": {
  "kernelspec": {
   "display_name": "Python 3 (ipykernel)",
   "language": "python",
   "name": "python3"
  },
  "language_info": {
   "codemirror_mode": {
    "name": "ipython",
    "version": 3
   },
   "file_extension": ".py",
   "mimetype": "text/x-python",
   "name": "python",
   "nbconvert_exporter": "python",
   "pygments_lexer": "ipython3",
   "version": "3.12.4"
  }
 },
 "nbformat": 4,
 "nbformat_minor": 5
}
