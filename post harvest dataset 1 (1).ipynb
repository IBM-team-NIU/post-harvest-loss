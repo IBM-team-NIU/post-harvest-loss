{
 "cells": [
  {
   "cell_type": "code",
   "execution_count": 1,
   "id": "a55f92e3-539e-4e0a-b63b-7d2ac73d771a",
   "metadata": {},
   "outputs": [
    {
     "name": "stdout",
     "output_type": "stream",
     "text": [
      "Common columns: {'Crop'}\n"
     ]
    }
   ],
   "source": [
    "import pandas as pd\n",
    "\n",
    "# Load data\n",
    "df1 = pd.read_csv('crop losses .csv')\n",
    "df2 = pd.read_csv('crops from each state.csv')\n",
    "\n",
    "\n",
    "# Get column names\n",
    "columns_df1 = set(df1.columns)\n",
    "columns_df2 = set(df2.columns)\n",
    "\n",
    "\n",
    "# Find common columns\n",
    "common_columns = columns_df1.intersection(columns_df2)\n",
    "\n",
    "print(\"Common columns:\", common_columns)\n"
   ]
  },
  {
   "cell_type": "code",
   "execution_count": 7,
   "id": "61afe748-0594-48a9-98b1-dbacab263fb5",
   "metadata": {},
   "outputs": [],
   "source": [
    "merged_df1 = pd.merge(df1, df2, on=list(common_columns), how='left')\n"
   ]
  },
  {
   "cell_type": "code",
   "execution_count": 23,
   "id": "0934c926-3810-4279-9530-ec94b0b26ea3",
   "metadata": {},
   "outputs": [
    {
     "name": "stdout",
     "output_type": "stream",
     "text": [
      "   Sl. No.   Crop  Loss in Transport (%)  Loss in Storage (%)  \\\n",
      "0        1  Paddy                   0.09                 0.86   \n",
      "1        1  Paddy                   0.09                 0.86   \n",
      "2        1  Paddy                   0.09                 0.86   \n",
      "3        1  Paddy                   0.09                 0.86   \n",
      "4        1  Paddy                   0.09                 0.86   \n",
      "\n",
      "   Overall Total Loss (%) - (Farm operation + transport + storage) State_Name  \\\n",
      "0                                               5.53                    Assam   \n",
      "1                                               5.53                    Assam   \n",
      "2                                               5.53                    Assam   \n",
      "3                                               5.53                    Assam   \n",
      "4                                               5.53                    Assam   \n",
      "\n",
      "  District_Name  Crop_Year       Season     Area  Production  \n",
      "0         BAKSA     2011.0  Autumn       10325.0     14340.0  \n",
      "1         BAKSA     2011.0  Summer        2500.0      5595.0  \n",
      "2         BAKSA     2011.0  Winter       85450.0    153149.0  \n",
      "3         BAKSA     2012.0  Autumn       11780.0     16636.0  \n",
      "4         BAKSA     2012.0  Winter       85485.0    157009.0  \n"
     ]
    }
   ],
   "source": [
    "print(merged_df1.head())\n"
   ]
  },
  {
   "cell_type": "code",
   "execution_count": 24,
   "id": "56cd556f-1aab-4319-9c7e-04ff8de97bf6",
   "metadata": {},
   "outputs": [
    {
     "name": "stdout",
     "output_type": "stream",
     "text": [
      "Common columns: {'Crop'}\n"
     ]
    }
   ],
   "source": [
    "df3 = pd.read_csv('district.csv')\n",
    "\n",
    "# Get column names\n",
    "columns_merged_df1= set(merged_df1.columns)\n",
    "columns_df3 = set(df3.columns)\n",
    "# Find common columns\n",
    "common_columns = columns_merged_df1 .intersection(columns_df3)\n",
    "\n",
    "print(\"Common columns:\", common_columns)\n",
    "\n",
    "\n"
   ]
  },
  {
   "cell_type": "code",
   "execution_count": 25,
   "id": "98074242-ab76-483a-b45f-e985f7179807",
   "metadata": {},
   "outputs": [
    {
     "name": "stdout",
     "output_type": "stream",
     "text": [
      "   Sl. No.   Crop  Loss in Transport (%)  Loss in Storage (%)  \\\n",
      "0        1  Paddy                   0.09                 0.86   \n",
      "1        1  Paddy                   0.09                 0.86   \n",
      "2        1  Paddy                   0.09                 0.86   \n",
      "3        1  Paddy                   0.09                 0.86   \n",
      "4        1  Paddy                   0.09                 0.86   \n",
      "\n",
      "   Overall Total Loss (%) - (Farm operation + transport + storage) State_Name  \\\n",
      "0                                               5.53                    Assam   \n",
      "1                                               5.53                    Assam   \n",
      "2                                               5.53                    Assam   \n",
      "3                                               5.53                    Assam   \n",
      "4                                               5.53                    Assam   \n",
      "\n",
      "  District_Name  Crop_Year       Season     Area  Production  S.No.  \\\n",
      "0         BAKSA     2011.0  Autumn       10325.0     14340.0   36.0   \n",
      "1         BAKSA     2011.0  Summer        2500.0      5595.0   36.0   \n",
      "2         BAKSA     2011.0  Winter       85450.0    153149.0   36.0   \n",
      "3         BAKSA     2012.0  Autumn       11780.0     16636.0   36.0   \n",
      "4         BAKSA     2012.0  Winter       85485.0    157009.0   36.0   \n",
      "\n",
      "            District Total loss in farm\\noperations  \\\n",
      "0  Udham Singh Nagar                   2.33 ±0.0335   \n",
      "1  Udham Singh Nagar                   2.33 ±0.0335   \n",
      "2  Udham Singh Nagar                   2.33 ±0.0335   \n",
      "3  Udham Singh Nagar                   2.33 ±0.0335   \n",
      "4  Udham Singh Nagar                   2.33 ±0.0335   \n",
      "\n",
      "  Total loss in market\\nlevel Over all total loss  \n",
      "0                0.57 ±0.3741        2.91 ±0.3741  \n",
      "1                0.57 ±0.3741        2.91 ±0.3741  \n",
      "2                0.57 ±0.3741        2.91 ±0.3741  \n",
      "3                0.57 ±0.3741        2.91 ±0.3741  \n",
      "4                0.57 ±0.3741        2.91 ±0.3741  \n"
     ]
    }
   ],
   "source": [
    "merged_df2 = pd.merge(merged_df1, df3, on=list(common_columns), how='left')\n",
    "print(merged_df2.head())\n",
    "\n"
   ]
  },
  {
   "cell_type": "code",
   "execution_count": 31,
   "id": "6d40625a-bbd7-4fec-af0b-980c7f72f197",
   "metadata": {},
   "outputs": [
    {
     "name": "stdout",
     "output_type": "stream",
     "text": [
      "Common columns: {'State_Name'}\n"
     ]
    }
   ],
   "source": [
    "df4 = pd.read_csv('storage.csv')\n",
    "del df4['Sl. No.']\n",
    "\n",
    "\n",
    "\n",
    "# Get column names\n",
    "columns_merged_df2= set(merged_df2.columns)\n",
    "columns_df4 = set(df4.columns)\n",
    "# Find common columns\n",
    "common_columns = columns_merged_df2 .intersection(columns_df4)\n",
    "\n",
    "print(\"Common columns:\", common_columns)\n",
    "\n",
    "\n",
    "\n"
   ]
  },
  {
   "cell_type": "code",
   "execution_count": 33,
   "id": "7903562f-1e62-4301-b613-8b7c090c3763",
   "metadata": {},
   "outputs": [
    {
     "name": "stdout",
     "output_type": "stream",
     "text": [
      "   Sl. No.   Crop  Loss in Transport (%)  Loss in Storage (%)  \\\n",
      "0        1  Paddy                   0.09                 0.86   \n",
      "1        1  Paddy                   0.09                 0.86   \n",
      "2        1  Paddy                   0.09                 0.86   \n",
      "3        1  Paddy                   0.09                 0.86   \n",
      "4        1  Paddy                   0.09                 0.86   \n",
      "\n",
      "   Overall Total Loss (%) - (Farm operation + transport + storage) State_Name  \\\n",
      "0                                               5.53                    Assam   \n",
      "1                                               5.53                    Assam   \n",
      "2                                               5.53                    Assam   \n",
      "3                                               5.53                    Assam   \n",
      "4                                               5.53                    Assam   \n",
      "\n",
      "  District_Name  Crop_Year       Season     Area  Production  S.No.  \\\n",
      "0         BAKSA     2011.0  Autumn       10325.0     14340.0   36.0   \n",
      "1         BAKSA     2011.0  Summer        2500.0      5595.0   36.0   \n",
      "2         BAKSA     2011.0  Winter       85450.0    153149.0   36.0   \n",
      "3         BAKSA     2012.0  Autumn       11780.0     16636.0   36.0   \n",
      "4         BAKSA     2012.0  Winter       85485.0    157009.0   36.0   \n",
      "\n",
      "            District Total loss in farm\\noperations  \\\n",
      "0  Udham Singh Nagar                   2.33 ±0.0335   \n",
      "1  Udham Singh Nagar                   2.33 ±0.0335   \n",
      "2  Udham Singh Nagar                   2.33 ±0.0335   \n",
      "3  Udham Singh Nagar                   2.33 ±0.0335   \n",
      "4  Udham Singh Nagar                   2.33 ±0.0335   \n",
      "\n",
      "  Total loss in market\\nlevel Over all total loss  Number  Capacity (MT)  \n",
      "0                0.57 ±0.3741        2.91 ±0.3741    45.0       216388.0  \n",
      "1                0.57 ±0.3741        2.91 ±0.3741    45.0       216388.0  \n",
      "2                0.57 ±0.3741        2.91 ±0.3741    45.0       216388.0  \n",
      "3                0.57 ±0.3741        2.91 ±0.3741    45.0       216388.0  \n",
      "4                0.57 ±0.3741        2.91 ±0.3741    45.0       216388.0  \n"
     ]
    }
   ],
   "source": [
    "merged_df3= pd.merge(merged_df2, df4, on=list(common_columns), how='left')\n",
    "print(merged_df3.head())\n",
    "\n"
   ]
  },
  {
   "cell_type": "code",
   "execution_count": 36,
   "id": "b17e60c5-b35b-4ba3-9334-dda07742fa9d",
   "metadata": {},
   "outputs": [
    {
     "name": "stdout",
     "output_type": "stream",
     "text": [
      "Common columns: {'State_Name'}\n"
     ]
    }
   ],
   "source": [
    "df5 = pd.read_csv('tranpostation from each state.csv')\n",
    "\n",
    "# Get column names\n",
    "columns_merged_df3= set(merged_df3.columns)\n",
    "columns_df5 = set(df5.columns)\n",
    "# Find common columns\n",
    "common_columns = columns_merged_df3 .intersection(columns_df5)\n",
    "\n",
    "print(\"Common columns:\", common_columns)\n",
    "\n",
    "\n",
    "\n"
   ]
  },
  {
   "cell_type": "code",
   "execution_count": 37,
   "id": "5deba276-386f-4821-b733-968a580e5537",
   "metadata": {},
   "outputs": [
    {
     "name": "stdout",
     "output_type": "stream",
     "text": [
      "   Sl. No.   Crop  Loss in Transport (%)  Loss in Storage (%)  \\\n",
      "0        1  Paddy                   0.09                 0.86   \n",
      "1        1  Paddy                   0.09                 0.86   \n",
      "2        1  Paddy                   0.09                 0.86   \n",
      "3        1  Paddy                   0.09                 0.86   \n",
      "4        1  Paddy                   0.09                 0.86   \n",
      "\n",
      "   Overall Total Loss (%) - (Farm operation + transport + storage) State_Name  \\\n",
      "0                                               5.53                    Assam   \n",
      "1                                               5.53                    Assam   \n",
      "2                                               5.53                    Assam   \n",
      "3                                               5.53                    Assam   \n",
      "4                                               5.53                    Assam   \n",
      "\n",
      "  District_Name  Crop_Year       Season     Area  ...  \\\n",
      "0         BAKSA     2011.0  Autumn       10325.0  ...   \n",
      "1         BAKSA     2011.0  Summer        2500.0  ...   \n",
      "2         BAKSA     2011.0  Winter       85450.0  ...   \n",
      "3         BAKSA     2012.0  Autumn       11780.0  ...   \n",
      "4         BAKSA     2012.0  Winter       85485.0  ...   \n",
      "\n",
      "   Safety and Security during Transportation  \\\n",
      "0                                        2.7   \n",
      "1                                        2.7   \n",
      "2                                        2.7   \n",
      "3                                        2.7   \n",
      "4                                        2.7   \n",
      "\n",
      "   Safety and Security at Terminals Extent of Facilitation  \\\n",
      "0                               2.9                    2.4   \n",
      "1                               2.9                    2.4   \n",
      "2                               2.9                    2.4   \n",
      "3                               2.9                    2.4   \n",
      "4                               2.9                    2.4   \n",
      "\n",
      "  Ease of Obtaining all Approvals Efficiency of Regulatory  \\\n",
      "0                             2.3                      2.4   \n",
      "1                             2.3                      2.4   \n",
      "2                             2.3                      2.4   \n",
      "3                             2.3                      2.4   \n",
      "4                             2.3                      2.4   \n",
      "\n",
      "  Range scaled Ease of Doing Business ranks  \\\n",
      "0                                       3.0   \n",
      "1                                       3.0   \n",
      "2                                       3.0   \n",
      "3                                       3.0   \n",
      "4                                       3.0   \n",
      "\n",
      "   Trade Infrastructure for Export Scheme outlay  \\\n",
      "0                                            3.0   \n",
      "1                                            3.0   \n",
      "2                                            3.0   \n",
      "3                                            3.0   \n",
      "4                                            3.0   \n",
      "\n",
      "   States logistics enabling initiatives  \\\n",
      "0                                    4.0   \n",
      "1                                    4.0   \n",
      "2                                    4.0   \n",
      "3                                    4.0   \n",
      "4                                    4.0   \n",
      "\n",
      "   Assessment of variables of logistics ease  Final Score  \n",
      "0                                        3.7          2.6  \n",
      "1                                        3.7          2.6  \n",
      "2                                        3.7          2.6  \n",
      "3                                        3.7          2.6  \n",
      "4                                        3.7          2.6  \n",
      "\n",
      "[5 rows x 40 columns]\n"
     ]
    }
   ],
   "source": [
    "merged_df4= pd.merge(merged_df3, df5, on=list(common_columns), how='left')\n",
    "print(merged_df4.head())\n",
    "\n"
   ]
  },
  {
   "cell_type": "code",
   "execution_count": 39,
   "id": "ea38e0f3-7fe0-4e17-9f65-6ee1c3e9ac80",
   "metadata": {},
   "outputs": [
    {
     "name": "stdout",
     "output_type": "stream",
     "text": [
      "<class 'pandas.core.frame.DataFrame'>\n",
      "RangeIndex: 64041 entries, 0 to 64040\n",
      "Data columns (total 40 columns):\n",
      " #   Column                                                           Non-Null Count  Dtype  \n",
      "---  ------                                                           --------------  -----  \n",
      " 0   Sl. No.                                                          64041 non-null  int64  \n",
      " 1   Crop                                                             64041 non-null  object \n",
      " 2   Loss in Transport (%)                                            64041 non-null  float64\n",
      " 3   Loss in Storage (%)                                              64041 non-null  float64\n",
      " 4   Overall Total Loss (%) - (Farm operation + transport + storage)  64041 non-null  float64\n",
      " 5   State_Name                                                       64029 non-null  object \n",
      " 6   District_Name                                                    64029 non-null  object \n",
      " 7   Crop_Year                                                        64029 non-null  float64\n",
      " 8   Season                                                           64029 non-null  object \n",
      " 9   Area                                                             64029 non-null  float64\n",
      " 10  Production                                                       63494 non-null  float64\n",
      " 11  S.No.                                                            64034 non-null  float64\n",
      " 12  District                                                         64034 non-null  object \n",
      " 13  Total loss in farm\n",
      "operations                                    64034 non-null  object \n",
      " 14  Total loss in market\n",
      "level                                       64034 non-null  object \n",
      " 15  Over all total loss                                              64034 non-null  object \n",
      " 16  Number                                                           54256 non-null  float64\n",
      " 17  Capacity (MT)                                                    54256 non-null  float64\n",
      " 18  Quality of Road Infrastructure                                   36863 non-null  float64\n",
      " 19  Quality of Rail Infrastructure                                   36863 non-null  float64\n",
      " 20  Quality of Multi-Modal Terminal Infrastructure                   36863 non-null  float64\n",
      " 21  Quality of Unimodal Terminal Infrastructure                      36863 non-null  float64\n",
      " 22  Quality ofWarehousing Infrastructure                             36863 non-null  float64\n",
      " 23  Quality of Logistics Services                                    36863 non-null  float64\n",
      " 24  Capability of Logistics Service Providers                        36863 non-null  float64\n",
      " 25  Reasonableness of Road Freight Rates                             36863 non-null  float64\n",
      " 26  Reasonableness of Prices of Terminal Services                    36863 non-null  float64\n",
      " 27  Timeliness of Cargo Delivery (Transportation)                    36863 non-null  float64\n",
      " 28  Timeliness of Cargo Delivery (Terminal Services)                 36863 non-null  float64\n",
      " 29  Availability of Mobile/ Internet Connectivity                    36863 non-null  float64\n",
      " 30  Safety and Security during Transportation                        36863 non-null  float64\n",
      " 31  Safety and Security at Terminals                                 36863 non-null  float64\n",
      " 32  Extent of Facilitation                                           36863 non-null  float64\n",
      " 33  Ease of Obtaining all Approvals                                  36863 non-null  float64\n",
      " 34  Efficiency of Regulatory                                         36863 non-null  float64\n",
      " 35  Range scaled Ease of Doing Business ranks                        36863 non-null  float64\n",
      " 36  Trade Infrastructure for Export Scheme outlay                    36863 non-null  float64\n",
      " 37  States logistics enabling initiatives                            36863 non-null  float64\n",
      " 38  Assessment of variables of logistics ease                        36863 non-null  float64\n",
      " 39  Final Score                                                      36863 non-null  float64\n",
      "dtypes: float64(31), int64(1), object(8)\n",
      "memory usage: 19.5+ MB\n",
      "None\n"
     ]
    }
   ],
   "source": [
    "print(merged_df4.info())\n",
    "\n"
   ]
  },
  {
   "cell_type": "code",
   "execution_count": null,
   "id": "50649701-c5f1-4e0f-810a-a1ddd03d0f66",
   "metadata": {},
   "outputs": [],
   "source": []
  }
 ],
 "metadata": {
  "kernelspec": {
   "display_name": "Python 3 (ipykernel)",
   "language": "python",
   "name": "python3"
  },
  "language_info": {
   "codemirror_mode": {
    "name": "ipython",
    "version": 3
   },
   "file_extension": ".py",
   "mimetype": "text/x-python",
   "name": "python",
   "nbconvert_exporter": "python",
   "pygments_lexer": "ipython3",
   "version": "3.12.4"
  }
 },
 "nbformat": 4,
 "nbformat_minor": 5
}
